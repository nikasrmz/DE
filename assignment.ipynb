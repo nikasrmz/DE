{
 "nbformat": 4,
 "nbformat_minor": 0,
 "metadata": {
  "colab": {
   "provenance": [],
   "authorship_tag": "ABX9TyO4qp37Qg59jjHYUUXmgVQ9"
  },
  "kernelspec": {
   "name": "python3",
   "language": "python",
   "display_name": "Python 3 (ipykernel)"
  },
  "language_info": {
   "name": "python"
  }
 },
 "cells": [
  {
   "cell_type": "code",
   "source": [
    "import pandas as pd"
   ],
   "metadata": {
    "id": "h2DS3a0ShJQH",
    "executionInfo": {
     "status": "ok",
     "timestamp": 1708712076680,
     "user_tz": -240,
     "elapsed": 836,
     "user": {
      "displayName": "nika sharmazanashvili",
      "userId": "05268895251594373421"
     }
    },
    "ExecuteTime": {
     "end_time": "2024-02-26T18:54:41.114647700Z",
     "start_time": "2024-02-26T18:54:40.052643100Z"
    }
   },
   "execution_count": 1,
   "outputs": []
  },
  {
   "cell_type": "code",
   "source": [
    "import numpy as np"
   ],
   "metadata": {
    "id": "EqkxW-ZZntGy",
    "executionInfo": {
     "status": "ok",
     "timestamp": 1708712076681,
     "user_tz": -240,
     "elapsed": 3,
     "user": {
      "displayName": "nika sharmazanashvili",
      "userId": "05268895251594373421"
     }
    },
    "ExecuteTime": {
     "end_time": "2024-02-26T18:54:41.118146600Z",
     "start_time": "2024-02-26T18:54:41.112661700Z"
    }
   },
   "execution_count": 2,
   "outputs": []
  },
  {
   "cell_type": "code",
   "source": [
    "data = pd.read_csv('data/data.csv')"
   ],
   "metadata": {
    "id": "IgJf6nynhLX2",
    "executionInfo": {
     "status": "ok",
     "timestamp": 1708712109263,
     "user_tz": -240,
     "elapsed": 452,
     "user": {
      "displayName": "nika sharmazanashvili",
      "userId": "05268895251594373421"
     }
    },
    "ExecuteTime": {
     "end_time": "2024-02-26T18:54:43.496488300Z",
     "start_time": "2024-02-26T18:54:43.478311Z"
    }
   },
   "execution_count": 3,
   "outputs": []
  },
  {
   "cell_type": "code",
   "source": [
    "data.dtypes"
   ],
   "metadata": {
    "colab": {
     "base_uri": "https://localhost:8080/"
    },
    "id": "rJ-154xchRNp",
    "executionInfo": {
     "status": "ok",
     "timestamp": 1708712112682,
     "user_tz": -240,
     "elapsed": 7,
     "user": {
      "displayName": "nika sharmazanashvili",
      "userId": "05268895251594373421"
     }
    },
    "outputId": "a8870bc0-ff49-4875-fbe5-1e9fe99f57ea",
    "ExecuteTime": {
     "end_time": "2024-02-26T18:54:45.743369600Z",
     "start_time": "2024-02-26T18:54:45.731710700Z"
    }
   },
   "execution_count": 4,
   "outputs": [
    {
     "data": {
      "text/plain": "id            float64\ndate_start     object\ncontracts      object\ndtype: object"
     },
     "execution_count": 4,
     "metadata": {},
     "output_type": "execute_result"
    }
   ]
  },
  {
   "cell_type": "code",
   "source": [
    "def parse_contract_date(contract_date_str, application_date):\n",
    "    if contract_date_str:\n",
    "        contract_date = pd.to_datetime(contract_date_str, format=\"%d.%m.%Y\")\n",
    "        if contract_date > application_date:\n",
    "            return application_date\n",
    "        else:\n",
    "            return contract_date\n",
    "    else:\n",
    "        return None"
   ],
   "metadata": {
    "id": "7xFDV588tpX8",
    "executionInfo": {
     "status": "ok",
     "timestamp": 1708712114600,
     "user_tz": -240,
     "elapsed": 2,
     "user": {
      "displayName": "nika sharmazanashvili",
      "userId": "05268895251594373421"
     }
    },
    "ExecuteTime": {
     "end_time": "2024-02-26T18:54:48.938873200Z",
     "start_time": "2024-02-26T18:54:48.927899500Z"
    }
   },
   "execution_count": 5,
   "outputs": []
  },
  {
   "cell_type": "code",
   "source": [
    "def calculate_number_of_claims_last_180_days(contracts, application_date):\n",
    "    if contracts is np.NaN:\n",
    "        return -3\n",
    "    contracts = eval(contracts)\n",
    "    if type(contracts) != list:\n",
    "      contracts = [contracts]\n",
    "    valid_contracts = [contract for contract in contracts if contract['claim_date']]\n",
    "    valid_contracts_last_180_days = [contract for contract in valid_contracts\n",
    "                                     if (application_date - pd.to_datetime(contract['claim_date'], format=\"%d.%m.%Y\")).days <= 180]\n",
    "    return len(valid_contracts_last_180_days)\n"
   ],
   "metadata": {
    "id": "r_GRTsvOtsd2",
    "executionInfo": {
     "status": "ok",
     "timestamp": 1708712116551,
     "user_tz": -240,
     "elapsed": 2,
     "user": {
      "displayName": "nika sharmazanashvili",
      "userId": "05268895251594373421"
     }
    },
    "ExecuteTime": {
     "end_time": "2024-02-26T18:54:50.026423900Z",
     "start_time": "2024-02-26T18:54:50.015664800Z"
    }
   },
   "execution_count": 6,
   "outputs": []
  },
  {
   "cell_type": "code",
   "source": [
    "def calculate_exposure_of_active_bank_loans(contracts):\n",
    "\n",
    "    if contracts is np.NaN:\n",
    "        return -3\n",
    "    contracts = eval(contracts)\n",
    "    if type(contracts) != list:\n",
    "      contracts = [contracts]\n",
    "    valid_contracts = [contract for contract in contracts\n",
    "                       if (contract['bank'] not in ['LIZ', 'LOM', 'MKO', 'SUG', None] if 'bank' in contract.keys() else False) and contract['loan_summa']\n",
    "                      ]\n",
    "    disbursed_loans = [contract for contract in valid_contracts if contract['contract_date']]\n",
    "    exposure = sum(float(contract['loan_summa']) for contract in disbursed_loans)\n",
    "    return exposure"
   ],
   "metadata": {
    "id": "_vrFxdV5tupu",
    "executionInfo": {
     "status": "ok",
     "timestamp": 1708712119206,
     "user_tz": -240,
     "elapsed": 1,
     "user": {
      "displayName": "nika sharmazanashvili",
      "userId": "05268895251594373421"
     }
    },
    "ExecuteTime": {
     "end_time": "2024-02-26T18:54:50.367160Z",
     "start_time": "2024-02-26T18:54:50.360668Z"
    }
   },
   "execution_count": 7,
   "outputs": []
  },
  {
   "cell_type": "code",
   "source": [
    "def calculate_days_since_last_loan(contracts, application_date):\n",
    "    if contracts is np.NaN:\n",
    "        return -3\n",
    "    contracts = eval(contracts)\n",
    "    if type(contracts) != list:\n",
    "      contracts = [contracts]\n",
    "    valid_contracts = [contract for contract in contracts if contract['summa']]\n",
    "    if not valid_contracts:\n",
    "        return -1\n",
    "    sorted_contracts = sorted(valid_contracts, key=lambda x: parse_contract_date(x['contract_date'], application_date))\n",
    "    last_contract = sorted_contracts[-1]\n",
    "    contract_date = parse_contract_date(last_contract['contract_date'], application_date)\n",
    "    days_since_last_loan = (application_date - contract_date).days\n",
    "    return days_since_last_loan"
   ],
   "metadata": {
    "id": "6L4MQUAst6ss",
    "executionInfo": {
     "status": "ok",
     "timestamp": 1708712119708,
     "user_tz": -240,
     "elapsed": 3,
     "user": {
      "displayName": "nika sharmazanashvili",
      "userId": "05268895251594373421"
     }
    },
    "ExecuteTime": {
     "end_time": "2024-02-26T18:54:51.234449400Z",
     "start_time": "2024-02-26T18:54:51.215470900Z"
    }
   },
   "execution_count": 8,
   "outputs": []
  },
  {
   "cell_type": "code",
   "source": [
    "application_date = pd.to_datetime('today')\n",
    "\n",
    "data['tot_claim_cnt_l180d'] = data['contracts'].apply(lambda x: calculate_number_of_claims_last_180_days(x, application_date))\n",
    "data['disb_active_bank_loan_wo_tbc'] = data['contracts'].apply(calculate_exposure_of_active_bank_loans)\n",
    "data['day_sinlastloan'] = data['contracts'].apply(lambda x: calculate_days_since_last_loan(x, application_date))"
   ],
   "metadata": {
    "id": "1VXznwR8t9l5",
    "executionInfo": {
     "status": "ok",
     "timestamp": 1708712126090,
     "user_tz": -240,
     "elapsed": 4252,
     "user": {
      "displayName": "nika sharmazanashvili",
      "userId": "05268895251594373421"
     }
    },
    "ExecuteTime": {
     "end_time": "2024-02-26T18:54:55.687167700Z",
     "start_time": "2024-02-26T18:54:54.017134200Z"
    }
   },
   "execution_count": 9,
   "outputs": []
  },
  {
   "cell_type": "code",
   "source": [
    "data.drop('contracts', axis=1)"
   ],
   "metadata": {
    "colab": {
     "base_uri": "https://localhost:8080/",
     "height": 423
    },
    "id": "ENvRtY311BOj",
    "executionInfo": {
     "status": "ok",
     "timestamp": 1708712214735,
     "user_tz": -240,
     "elapsed": 17,
     "user": {
      "displayName": "nika sharmazanashvili",
      "userId": "05268895251594373421"
     }
    },
    "outputId": "b3dfc8ca-fc79-43f1-8a43-7c8ff7b4d950",
    "ExecuteTime": {
     "end_time": "2024-02-26T18:54:55.702858100Z",
     "start_time": "2024-02-26T18:54:55.688157900Z"
    }
   },
   "execution_count": 10,
   "outputs": [
    {
     "data": {
      "text/plain": "            id                        date_start  tot_claim_cnt_l180d  \\\n0    2925210.0  2024-02-12 19:22:46.652000+00:00                   -3   \n1    2925211.0  2024-02-12 19:24:29.135000+00:00                   58   \n2    2925212.0  2024-02-12 19:24:41.493000+00:00                   -3   \n3    2925213.0  2024-02-12 19:24:29.135000+00:00                   58   \n4    2925214.0  2024-02-12 19:24:56.857000+00:00                   -3   \n..         ...                               ...                  ...   \n995  2926205.0  2024-02-13 06:09:54.210000+00:00                    0   \n996  2926206.0  2024-02-13 06:09:54.306000+00:00                   -3   \n997  2926207.0  2024-02-13 06:09:55.661000+00:00                   -3   \n998  2926208.0  2024-02-13 06:09:57.024000+00:00                   -3   \n999  2926209.0  2024-02-13 06:10:00.403000+00:00                   -3   \n\n     disb_active_bank_loan_wo_tbc  day_sinlastloan  \n0                            -3.0               -3  \n1                             0.0              441  \n2                            -3.0               -3  \n3                             0.0              441  \n4                            -3.0               -3  \n..                            ...              ...  \n995                   217320883.0              742  \n996                          -3.0               -3  \n997                          -3.0               -3  \n998                          -3.0               -3  \n999                          -3.0               -3  \n\n[1000 rows x 5 columns]",
      "text/html": "<div>\n<style scoped>\n    .dataframe tbody tr th:only-of-type {\n        vertical-align: middle;\n    }\n\n    .dataframe tbody tr th {\n        vertical-align: top;\n    }\n\n    .dataframe thead th {\n        text-align: right;\n    }\n</style>\n<table border=\"1\" class=\"dataframe\">\n  <thead>\n    <tr style=\"text-align: right;\">\n      <th></th>\n      <th>id</th>\n      <th>date_start</th>\n      <th>tot_claim_cnt_l180d</th>\n      <th>disb_active_bank_loan_wo_tbc</th>\n      <th>day_sinlastloan</th>\n    </tr>\n  </thead>\n  <tbody>\n    <tr>\n      <th>0</th>\n      <td>2925210.0</td>\n      <td>2024-02-12 19:22:46.652000+00:00</td>\n      <td>-3</td>\n      <td>-3.0</td>\n      <td>-3</td>\n    </tr>\n    <tr>\n      <th>1</th>\n      <td>2925211.0</td>\n      <td>2024-02-12 19:24:29.135000+00:00</td>\n      <td>58</td>\n      <td>0.0</td>\n      <td>441</td>\n    </tr>\n    <tr>\n      <th>2</th>\n      <td>2925212.0</td>\n      <td>2024-02-12 19:24:41.493000+00:00</td>\n      <td>-3</td>\n      <td>-3.0</td>\n      <td>-3</td>\n    </tr>\n    <tr>\n      <th>3</th>\n      <td>2925213.0</td>\n      <td>2024-02-12 19:24:29.135000+00:00</td>\n      <td>58</td>\n      <td>0.0</td>\n      <td>441</td>\n    </tr>\n    <tr>\n      <th>4</th>\n      <td>2925214.0</td>\n      <td>2024-02-12 19:24:56.857000+00:00</td>\n      <td>-3</td>\n      <td>-3.0</td>\n      <td>-3</td>\n    </tr>\n    <tr>\n      <th>...</th>\n      <td>...</td>\n      <td>...</td>\n      <td>...</td>\n      <td>...</td>\n      <td>...</td>\n    </tr>\n    <tr>\n      <th>995</th>\n      <td>2926205.0</td>\n      <td>2024-02-13 06:09:54.210000+00:00</td>\n      <td>0</td>\n      <td>217320883.0</td>\n      <td>742</td>\n    </tr>\n    <tr>\n      <th>996</th>\n      <td>2926206.0</td>\n      <td>2024-02-13 06:09:54.306000+00:00</td>\n      <td>-3</td>\n      <td>-3.0</td>\n      <td>-3</td>\n    </tr>\n    <tr>\n      <th>997</th>\n      <td>2926207.0</td>\n      <td>2024-02-13 06:09:55.661000+00:00</td>\n      <td>-3</td>\n      <td>-3.0</td>\n      <td>-3</td>\n    </tr>\n    <tr>\n      <th>998</th>\n      <td>2926208.0</td>\n      <td>2024-02-13 06:09:57.024000+00:00</td>\n      <td>-3</td>\n      <td>-3.0</td>\n      <td>-3</td>\n    </tr>\n    <tr>\n      <th>999</th>\n      <td>2926209.0</td>\n      <td>2024-02-13 06:10:00.403000+00:00</td>\n      <td>-3</td>\n      <td>-3.0</td>\n      <td>-3</td>\n    </tr>\n  </tbody>\n</table>\n<p>1000 rows × 5 columns</p>\n</div>"
     },
     "execution_count": 10,
     "metadata": {},
     "output_type": "execute_result"
    }
   ]
  },
  {
   "cell_type": "code",
   "source": [
    "data.to_csv('features.csv')"
   ],
   "metadata": {
    "id": "mIhye6a1xNJK",
    "executionInfo": {
     "status": "ok",
     "timestamp": 1708712365528,
     "user_tz": -240,
     "elapsed": 6,
     "user": {
      "displayName": "nika sharmazanashvili",
      "userId": "05268895251594373421"
     }
    }
   },
   "execution_count": 18,
   "outputs": []
  }
 ]
}
